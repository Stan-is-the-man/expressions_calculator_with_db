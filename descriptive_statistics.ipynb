{
 "cells": [
  {
   "cell_type": "code",
   "execution_count": 209,
   "metadata": {
    "collapsed": true
   },
   "outputs": [],
   "source": [
    "import pandas as pd"
   ]
  },
  {
   "cell_type": "code",
   "execution_count": 210,
   "outputs": [
    {
     "data": {
      "text/plain": "            operands                     results  execution_time   \n0            5, 5, 2                           8        0.000016  \\\n1            2, 2, 1                           4        0.000015   \n2         5, 100, 25                          30        0.000015   \n3            2, 3, 1                           9        0.000015   \n4   2, 2, 6, 8, 2, 1                          26        0.000043   \n5               5, 2                           7        0.000014   \n6               5, 2                           7        0.000012   \n7                  5                         120        0.000001   \n8                 25  15511210043330986000000000        0.000003   \n9               5, 2                           3        0.000021   \n10              5, 2                           7        0.000013   \n11                 5                         120        0.000002   \n\n         operators  \n0             +, -  \n1             *, /  \n2             %, +  \n3            **, +  \n4   +, +, --, *, /  \n5               --  \n6                +  \n7                !  \n8                !  \n9              ---  \n10              --  \n11               !  ",
      "text/html": "<div>\n<style scoped>\n    .dataframe tbody tr th:only-of-type {\n        vertical-align: middle;\n    }\n\n    .dataframe tbody tr th {\n        vertical-align: top;\n    }\n\n    .dataframe thead th {\n        text-align: right;\n    }\n</style>\n<table border=\"1\" class=\"dataframe\">\n  <thead>\n    <tr style=\"text-align: right;\">\n      <th></th>\n      <th>operands</th>\n      <th>results</th>\n      <th>execution_time</th>\n      <th>operators</th>\n    </tr>\n  </thead>\n  <tbody>\n    <tr>\n      <th>0</th>\n      <td>5, 5, 2</td>\n      <td>8</td>\n      <td>0.000016</td>\n      <td>+, -</td>\n    </tr>\n    <tr>\n      <th>1</th>\n      <td>2, 2, 1</td>\n      <td>4</td>\n      <td>0.000015</td>\n      <td>*, /</td>\n    </tr>\n    <tr>\n      <th>2</th>\n      <td>5, 100, 25</td>\n      <td>30</td>\n      <td>0.000015</td>\n      <td>%, +</td>\n    </tr>\n    <tr>\n      <th>3</th>\n      <td>2, 3, 1</td>\n      <td>9</td>\n      <td>0.000015</td>\n      <td>**, +</td>\n    </tr>\n    <tr>\n      <th>4</th>\n      <td>2, 2, 6, 8, 2, 1</td>\n      <td>26</td>\n      <td>0.000043</td>\n      <td>+, +, --, *, /</td>\n    </tr>\n    <tr>\n      <th>5</th>\n      <td>5, 2</td>\n      <td>7</td>\n      <td>0.000014</td>\n      <td>--</td>\n    </tr>\n    <tr>\n      <th>6</th>\n      <td>5, 2</td>\n      <td>7</td>\n      <td>0.000012</td>\n      <td>+</td>\n    </tr>\n    <tr>\n      <th>7</th>\n      <td>5</td>\n      <td>120</td>\n      <td>0.000001</td>\n      <td>!</td>\n    </tr>\n    <tr>\n      <th>8</th>\n      <td>25</td>\n      <td>15511210043330986000000000</td>\n      <td>0.000003</td>\n      <td>!</td>\n    </tr>\n    <tr>\n      <th>9</th>\n      <td>5, 2</td>\n      <td>3</td>\n      <td>0.000021</td>\n      <td>---</td>\n    </tr>\n    <tr>\n      <th>10</th>\n      <td>5, 2</td>\n      <td>7</td>\n      <td>0.000013</td>\n      <td>--</td>\n    </tr>\n    <tr>\n      <th>11</th>\n      <td>5</td>\n      <td>120</td>\n      <td>0.000002</td>\n      <td>!</td>\n    </tr>\n  </tbody>\n</table>\n</div>"
     },
     "execution_count": 210,
     "metadata": {},
     "output_type": "execute_result"
    }
   ],
   "source": [
    "df_statistics = pd.read_csv('calculator_statistics.csv')\n",
    "df_statistics"
   ],
   "metadata": {
    "collapsed": false
   }
  },
  {
   "cell_type": "code",
   "execution_count": 211,
   "outputs": [],
   "source": [
    "curr_series = df_statistics.loc[:, 'operators']"
   ],
   "metadata": {
    "collapsed": false
   }
  },
  {
   "cell_type": "code",
   "execution_count": 212,
   "outputs": [
    {
     "data": {
      "text/plain": "0               +, -\n1               *, /\n2               %, +\n3              **, +\n4     +, +, --, *, /\n5                 --\n6                  +\n7                  !\n8                  !\n9                ---\n10                --\n11                 !\nName: operators, dtype: object"
     },
     "execution_count": 212,
     "metadata": {},
     "output_type": "execute_result"
    }
   ],
   "source": [
    "curr_series"
   ],
   "metadata": {
    "collapsed": false
   }
  },
  {
   "cell_type": "markdown",
   "source": [
    "# 1. Mandatory descriptive statistic"
   ],
   "metadata": {
    "collapsed": false
   }
  },
  {
   "cell_type": "code",
   "execution_count": 213,
   "outputs": [],
   "source": [
    "addition_counts = 0\n",
    "subtraction_count = 0\n",
    "multiplication_count = 0\n",
    "division_count = 0\n",
    "\n",
    "for cell in curr_series:\n",
    "    for char in cell:\n",
    "        if char == '+':\n",
    "            addition_counts += 1\n",
    "        if char == '-':\n",
    "            subtraction_count += 1\n",
    "        if char == '*':\n",
    "            multiplication_count += 1\n",
    "        if char == '/':\n",
    "            division_count += 1\n",
    "\n",
    "average_elementary_operations = (addition_counts + subtraction_count + multiplication_count + division_count) / 4"
   ],
   "metadata": {
    "collapsed": false
   }
  },
  {
   "cell_type": "markdown",
   "source": [
    "## 1.1 Total number of times the calculator performed addition operation"
   ],
   "metadata": {
    "collapsed": false
   }
  },
  {
   "cell_type": "code",
   "execution_count": 214,
   "outputs": [
    {
     "data": {
      "text/plain": "6"
     },
     "execution_count": 214,
     "metadata": {},
     "output_type": "execute_result"
    }
   ],
   "source": [
    "addition_counts"
   ],
   "metadata": {
    "collapsed": false
   }
  },
  {
   "cell_type": "markdown",
   "source": [
    "## 1.2 Total number of times the calculator performed subtraction operation"
   ],
   "metadata": {
    "collapsed": false
   }
  },
  {
   "cell_type": "code",
   "execution_count": 215,
   "outputs": [
    {
     "data": {
      "text/plain": "10"
     },
     "execution_count": 215,
     "metadata": {},
     "output_type": "execute_result"
    }
   ],
   "source": [
    "subtraction_count"
   ],
   "metadata": {
    "collapsed": false
   }
  },
  {
   "cell_type": "markdown",
   "source": [
    "## 1.3 Average number of times calculator performed elementary operations"
   ],
   "metadata": {
    "collapsed": false
   }
  },
  {
   "cell_type": "code",
   "execution_count": 216,
   "outputs": [
    {
     "data": {
      "text/plain": "5.5"
     },
     "execution_count": 216,
     "metadata": {},
     "output_type": "execute_result"
    }
   ],
   "source": [
    "average_elementary_operations"
   ],
   "metadata": {
    "collapsed": false
   }
  },
  {
   "cell_type": "markdown",
   "source": [
    "# 2 Other descriptive statistics"
   ],
   "metadata": {
    "collapsed": false
   }
  },
  {
   "cell_type": "markdown",
   "source": [
    "## 2.1 All factoriel operations"
   ],
   "metadata": {
    "collapsed": false
   }
  },
  {
   "cell_type": "code",
   "execution_count": 229,
   "outputs": [
    {
     "data": {
      "text/plain": "   operands                     results  execution_time operators\n7         5                         120        0.000001         !\n8        25  15511210043330986000000000        0.000003         !\n11        5                         120        0.000002         !",
      "text/html": "<div>\n<style scoped>\n    .dataframe tbody tr th:only-of-type {\n        vertical-align: middle;\n    }\n\n    .dataframe tbody tr th {\n        vertical-align: top;\n    }\n\n    .dataframe thead th {\n        text-align: right;\n    }\n</style>\n<table border=\"1\" class=\"dataframe\">\n  <thead>\n    <tr style=\"text-align: right;\">\n      <th></th>\n      <th>operands</th>\n      <th>results</th>\n      <th>execution_time</th>\n      <th>operators</th>\n    </tr>\n  </thead>\n  <tbody>\n    <tr>\n      <th>7</th>\n      <td>5</td>\n      <td>120</td>\n      <td>0.000001</td>\n      <td>!</td>\n    </tr>\n    <tr>\n      <th>8</th>\n      <td>25</td>\n      <td>15511210043330986000000000</td>\n      <td>0.000003</td>\n      <td>!</td>\n    </tr>\n    <tr>\n      <th>11</th>\n      <td>5</td>\n      <td>120</td>\n      <td>0.000002</td>\n      <td>!</td>\n    </tr>\n  </tbody>\n</table>\n</div>"
     },
     "execution_count": 229,
     "metadata": {},
     "output_type": "execute_result"
    }
   ],
   "source": [
    "df_statistics.query(\"operators == '!'\")"
   ],
   "metadata": {
    "collapsed": false
   }
  },
  {
   "cell_type": "markdown",
   "source": [
    "## 2.2 Sorting the data frame by time of executions descending"
   ],
   "metadata": {
    "collapsed": false
   }
  },
  {
   "cell_type": "code",
   "execution_count": 246,
   "outputs": [],
   "source": [
    "sorted_by_exec_time = df_statistics.sort_values('execution_time', ascending=False)"
   ],
   "metadata": {
    "collapsed": false
   }
  },
  {
   "cell_type": "code",
   "execution_count": 247,
   "outputs": [
    {
     "data": {
      "text/plain": "            operands                     results  execution_time   \n4   2, 2, 6, 8, 2, 1                          26        0.000043  \\\n9               5, 2                           3        0.000021   \n0            5, 5, 2                           8        0.000016   \n1            2, 2, 1                           4        0.000015   \n3            2, 3, 1                           9        0.000015   \n2         5, 100, 25                          30        0.000015   \n5               5, 2                           7        0.000014   \n10              5, 2                           7        0.000013   \n6               5, 2                           7        0.000012   \n8                 25  15511210043330986000000000        0.000003   \n11                 5                         120        0.000002   \n7                  5                         120        0.000001   \n\n         operators  \n4   +, +, --, *, /  \n9              ---  \n0             +, -  \n1             *, /  \n3            **, +  \n2             %, +  \n5               --  \n10              --  \n6                +  \n8                !  \n11               !  \n7                !  ",
      "text/html": "<div>\n<style scoped>\n    .dataframe tbody tr th:only-of-type {\n        vertical-align: middle;\n    }\n\n    .dataframe tbody tr th {\n        vertical-align: top;\n    }\n\n    .dataframe thead th {\n        text-align: right;\n    }\n</style>\n<table border=\"1\" class=\"dataframe\">\n  <thead>\n    <tr style=\"text-align: right;\">\n      <th></th>\n      <th>operands</th>\n      <th>results</th>\n      <th>execution_time</th>\n      <th>operators</th>\n    </tr>\n  </thead>\n  <tbody>\n    <tr>\n      <th>4</th>\n      <td>2, 2, 6, 8, 2, 1</td>\n      <td>26</td>\n      <td>0.000043</td>\n      <td>+, +, --, *, /</td>\n    </tr>\n    <tr>\n      <th>9</th>\n      <td>5, 2</td>\n      <td>3</td>\n      <td>0.000021</td>\n      <td>---</td>\n    </tr>\n    <tr>\n      <th>0</th>\n      <td>5, 5, 2</td>\n      <td>8</td>\n      <td>0.000016</td>\n      <td>+, -</td>\n    </tr>\n    <tr>\n      <th>1</th>\n      <td>2, 2, 1</td>\n      <td>4</td>\n      <td>0.000015</td>\n      <td>*, /</td>\n    </tr>\n    <tr>\n      <th>3</th>\n      <td>2, 3, 1</td>\n      <td>9</td>\n      <td>0.000015</td>\n      <td>**, +</td>\n    </tr>\n    <tr>\n      <th>2</th>\n      <td>5, 100, 25</td>\n      <td>30</td>\n      <td>0.000015</td>\n      <td>%, +</td>\n    </tr>\n    <tr>\n      <th>5</th>\n      <td>5, 2</td>\n      <td>7</td>\n      <td>0.000014</td>\n      <td>--</td>\n    </tr>\n    <tr>\n      <th>10</th>\n      <td>5, 2</td>\n      <td>7</td>\n      <td>0.000013</td>\n      <td>--</td>\n    </tr>\n    <tr>\n      <th>6</th>\n      <td>5, 2</td>\n      <td>7</td>\n      <td>0.000012</td>\n      <td>+</td>\n    </tr>\n    <tr>\n      <th>8</th>\n      <td>25</td>\n      <td>15511210043330986000000000</td>\n      <td>0.000003</td>\n      <td>!</td>\n    </tr>\n    <tr>\n      <th>11</th>\n      <td>5</td>\n      <td>120</td>\n      <td>0.000002</td>\n      <td>!</td>\n    </tr>\n    <tr>\n      <th>7</th>\n      <td>5</td>\n      <td>120</td>\n      <td>0.000001</td>\n      <td>!</td>\n    </tr>\n  </tbody>\n</table>\n</div>"
     },
     "execution_count": 247,
     "metadata": {},
     "output_type": "execute_result"
    }
   ],
   "source": [
    "sorted_by_exec_time"
   ],
   "metadata": {
    "collapsed": false
   }
  },
  {
   "cell_type": "markdown",
   "source": [
    "### 2.2.1 Rearranging the columns"
   ],
   "metadata": {
    "collapsed": false
   }
  },
  {
   "cell_type": "code",
   "execution_count": 253,
   "outputs": [
    {
     "data": {
      "text/plain": "    execution_time       operators          operands   \n4         0.000043  +, +, --, *, /  2, 2, 6, 8, 2, 1  \\\n9         0.000021             ---              5, 2   \n0         0.000016            +, -           5, 5, 2   \n1         0.000015            *, /           2, 2, 1   \n3         0.000015           **, +           2, 3, 1   \n2         0.000015            %, +        5, 100, 25   \n5         0.000014              --              5, 2   \n10        0.000013              --              5, 2   \n6         0.000012               +              5, 2   \n8         0.000003               !                25   \n11        0.000002               !                 5   \n7         0.000001               !                 5   \n\n                       results  \n4                           26  \n9                            3  \n0                            8  \n1                            4  \n3                            9  \n2                           30  \n5                            7  \n10                           7  \n6                            7  \n8   15511210043330986000000000  \n11                         120  \n7                          120  ",
      "text/html": "<div>\n<style scoped>\n    .dataframe tbody tr th:only-of-type {\n        vertical-align: middle;\n    }\n\n    .dataframe tbody tr th {\n        vertical-align: top;\n    }\n\n    .dataframe thead th {\n        text-align: right;\n    }\n</style>\n<table border=\"1\" class=\"dataframe\">\n  <thead>\n    <tr style=\"text-align: right;\">\n      <th></th>\n      <th>execution_time</th>\n      <th>operators</th>\n      <th>operands</th>\n      <th>results</th>\n    </tr>\n  </thead>\n  <tbody>\n    <tr>\n      <th>4</th>\n      <td>0.000043</td>\n      <td>+, +, --, *, /</td>\n      <td>2, 2, 6, 8, 2, 1</td>\n      <td>26</td>\n    </tr>\n    <tr>\n      <th>9</th>\n      <td>0.000021</td>\n      <td>---</td>\n      <td>5, 2</td>\n      <td>3</td>\n    </tr>\n    <tr>\n      <th>0</th>\n      <td>0.000016</td>\n      <td>+, -</td>\n      <td>5, 5, 2</td>\n      <td>8</td>\n    </tr>\n    <tr>\n      <th>1</th>\n      <td>0.000015</td>\n      <td>*, /</td>\n      <td>2, 2, 1</td>\n      <td>4</td>\n    </tr>\n    <tr>\n      <th>3</th>\n      <td>0.000015</td>\n      <td>**, +</td>\n      <td>2, 3, 1</td>\n      <td>9</td>\n    </tr>\n    <tr>\n      <th>2</th>\n      <td>0.000015</td>\n      <td>%, +</td>\n      <td>5, 100, 25</td>\n      <td>30</td>\n    </tr>\n    <tr>\n      <th>5</th>\n      <td>0.000014</td>\n      <td>--</td>\n      <td>5, 2</td>\n      <td>7</td>\n    </tr>\n    <tr>\n      <th>10</th>\n      <td>0.000013</td>\n      <td>--</td>\n      <td>5, 2</td>\n      <td>7</td>\n    </tr>\n    <tr>\n      <th>6</th>\n      <td>0.000012</td>\n      <td>+</td>\n      <td>5, 2</td>\n      <td>7</td>\n    </tr>\n    <tr>\n      <th>8</th>\n      <td>0.000003</td>\n      <td>!</td>\n      <td>25</td>\n      <td>15511210043330986000000000</td>\n    </tr>\n    <tr>\n      <th>11</th>\n      <td>0.000002</td>\n      <td>!</td>\n      <td>5</td>\n      <td>120</td>\n    </tr>\n    <tr>\n      <th>7</th>\n      <td>0.000001</td>\n      <td>!</td>\n      <td>5</td>\n      <td>120</td>\n    </tr>\n  </tbody>\n</table>\n</div>"
     },
     "execution_count": 253,
     "metadata": {},
     "output_type": "execute_result"
    }
   ],
   "source": [
    "sorted_by_exec_time = sorted_by_exec_time[['execution_time', 'operators', 'operands', 'results']]\n",
    "sorted_by_exec_time"
   ],
   "metadata": {
    "collapsed": false
   }
  },
  {
   "cell_type": "markdown",
   "source": [
    "### 2.2.2 Resetting the indexes"
   ],
   "metadata": {
    "collapsed": false
   }
  },
  {
   "cell_type": "code",
   "execution_count": 256,
   "outputs": [
    {
     "data": {
      "text/plain": "            operands                     results  execution_time   \n0            5, 5, 2                           8        0.000016  \\\n1            2, 2, 1                           4        0.000015   \n2         5, 100, 25                          30        0.000015   \n3            2, 3, 1                           9        0.000015   \n4   2, 2, 6, 8, 2, 1                          26        0.000043   \n5               5, 2                           7        0.000014   \n6               5, 2                           7        0.000012   \n7                  5                         120        0.000001   \n8                 25  15511210043330986000000000        0.000003   \n9               5, 2                           3        0.000021   \n10              5, 2                           7        0.000013   \n11                 5                         120        0.000002   \n\n         operators  \n0             +, -  \n1             *, /  \n2             %, +  \n3            **, +  \n4   +, +, --, *, /  \n5               --  \n6                +  \n7                !  \n8                !  \n9              ---  \n10              --  \n11               !  ",
      "text/html": "<div>\n<style scoped>\n    .dataframe tbody tr th:only-of-type {\n        vertical-align: middle;\n    }\n\n    .dataframe tbody tr th {\n        vertical-align: top;\n    }\n\n    .dataframe thead th {\n        text-align: right;\n    }\n</style>\n<table border=\"1\" class=\"dataframe\">\n  <thead>\n    <tr style=\"text-align: right;\">\n      <th></th>\n      <th>operands</th>\n      <th>results</th>\n      <th>execution_time</th>\n      <th>operators</th>\n    </tr>\n  </thead>\n  <tbody>\n    <tr>\n      <th>0</th>\n      <td>5, 5, 2</td>\n      <td>8</td>\n      <td>0.000016</td>\n      <td>+, -</td>\n    </tr>\n    <tr>\n      <th>1</th>\n      <td>2, 2, 1</td>\n      <td>4</td>\n      <td>0.000015</td>\n      <td>*, /</td>\n    </tr>\n    <tr>\n      <th>2</th>\n      <td>5, 100, 25</td>\n      <td>30</td>\n      <td>0.000015</td>\n      <td>%, +</td>\n    </tr>\n    <tr>\n      <th>3</th>\n      <td>2, 3, 1</td>\n      <td>9</td>\n      <td>0.000015</td>\n      <td>**, +</td>\n    </tr>\n    <tr>\n      <th>4</th>\n      <td>2, 2, 6, 8, 2, 1</td>\n      <td>26</td>\n      <td>0.000043</td>\n      <td>+, +, --, *, /</td>\n    </tr>\n    <tr>\n      <th>5</th>\n      <td>5, 2</td>\n      <td>7</td>\n      <td>0.000014</td>\n      <td>--</td>\n    </tr>\n    <tr>\n      <th>6</th>\n      <td>5, 2</td>\n      <td>7</td>\n      <td>0.000012</td>\n      <td>+</td>\n    </tr>\n    <tr>\n      <th>7</th>\n      <td>5</td>\n      <td>120</td>\n      <td>0.000001</td>\n      <td>!</td>\n    </tr>\n    <tr>\n      <th>8</th>\n      <td>25</td>\n      <td>15511210043330986000000000</td>\n      <td>0.000003</td>\n      <td>!</td>\n    </tr>\n    <tr>\n      <th>9</th>\n      <td>5, 2</td>\n      <td>3</td>\n      <td>0.000021</td>\n      <td>---</td>\n    </tr>\n    <tr>\n      <th>10</th>\n      <td>5, 2</td>\n      <td>7</td>\n      <td>0.000013</td>\n      <td>--</td>\n    </tr>\n    <tr>\n      <th>11</th>\n      <td>5</td>\n      <td>120</td>\n      <td>0.000002</td>\n      <td>!</td>\n    </tr>\n  </tbody>\n</table>\n</div>"
     },
     "execution_count": 256,
     "metadata": {},
     "output_type": "execute_result"
    }
   ],
   "source": [
    "df_statistics.reset_index(drop=True)"
   ],
   "metadata": {
    "collapsed": false
   }
  },
  {
   "cell_type": "code",
   "execution_count": null,
   "outputs": [],
   "source": [],
   "metadata": {
    "collapsed": false
   }
  }
 ],
 "metadata": {
  "kernelspec": {
   "display_name": "Python 3",
   "language": "python",
   "name": "python3"
  },
  "language_info": {
   "codemirror_mode": {
    "name": "ipython",
    "version": 2
   },
   "file_extension": ".py",
   "mimetype": "text/x-python",
   "name": "python",
   "nbconvert_exporter": "python",
   "pygments_lexer": "ipython2",
   "version": "2.7.6"
  }
 },
 "nbformat": 4,
 "nbformat_minor": 0
}
