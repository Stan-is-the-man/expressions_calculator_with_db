{
 "cells": [
  {
   "cell_type": "code",
   "execution_count": 30,
   "metadata": {
    "collapsed": true
   },
   "outputs": [],
   "source": [
    "import pandas as pd"
   ]
  },
  {
   "cell_type": "code",
   "execution_count": 31,
   "outputs": [
    {
     "data": {
      "text/plain": "    results math_expression  execution_time      operands operators\n0     10.00             5+5        0.000018          5, 5         +\n1      4.00   (25-5) * 5/25        0.000024  25, 5, 5, 25   -, *, /\n2    120.00              5!        0.000002             5         !\n3      6.25            25/4        0.000045         25, 4         /\n4     28.00          28%124        0.000024       28, 124         %\n5      5.00      (5**2) / 5        0.000023       5, 2, 5     **, /\n6   1731.00        2300-569        0.000015     2300, 569         -\n7    720.00              6!        0.000004             6         !\n8    643.00         899-256        0.000025      899, 256         -\n9    361.00         236+125        0.000017      236, 125         +\n10    30.00         25+10/2        0.000021     25, 10, 2      +, /",
      "text/html": "<div>\n<style scoped>\n    .dataframe tbody tr th:only-of-type {\n        vertical-align: middle;\n    }\n\n    .dataframe tbody tr th {\n        vertical-align: top;\n    }\n\n    .dataframe thead th {\n        text-align: right;\n    }\n</style>\n<table border=\"1\" class=\"dataframe\">\n  <thead>\n    <tr style=\"text-align: right;\">\n      <th></th>\n      <th>results</th>\n      <th>math_expression</th>\n      <th>execution_time</th>\n      <th>operands</th>\n      <th>operators</th>\n    </tr>\n  </thead>\n  <tbody>\n    <tr>\n      <th>0</th>\n      <td>10.00</td>\n      <td>5+5</td>\n      <td>0.000018</td>\n      <td>5, 5</td>\n      <td>+</td>\n    </tr>\n    <tr>\n      <th>1</th>\n      <td>4.00</td>\n      <td>(25-5) * 5/25</td>\n      <td>0.000024</td>\n      <td>25, 5, 5, 25</td>\n      <td>-, *, /</td>\n    </tr>\n    <tr>\n      <th>2</th>\n      <td>120.00</td>\n      <td>5!</td>\n      <td>0.000002</td>\n      <td>5</td>\n      <td>!</td>\n    </tr>\n    <tr>\n      <th>3</th>\n      <td>6.25</td>\n      <td>25/4</td>\n      <td>0.000045</td>\n      <td>25, 4</td>\n      <td>/</td>\n    </tr>\n    <tr>\n      <th>4</th>\n      <td>28.00</td>\n      <td>28%124</td>\n      <td>0.000024</td>\n      <td>28, 124</td>\n      <td>%</td>\n    </tr>\n    <tr>\n      <th>5</th>\n      <td>5.00</td>\n      <td>(5**2) / 5</td>\n      <td>0.000023</td>\n      <td>5, 2, 5</td>\n      <td>**, /</td>\n    </tr>\n    <tr>\n      <th>6</th>\n      <td>1731.00</td>\n      <td>2300-569</td>\n      <td>0.000015</td>\n      <td>2300, 569</td>\n      <td>-</td>\n    </tr>\n    <tr>\n      <th>7</th>\n      <td>720.00</td>\n      <td>6!</td>\n      <td>0.000004</td>\n      <td>6</td>\n      <td>!</td>\n    </tr>\n    <tr>\n      <th>8</th>\n      <td>643.00</td>\n      <td>899-256</td>\n      <td>0.000025</td>\n      <td>899, 256</td>\n      <td>-</td>\n    </tr>\n    <tr>\n      <th>9</th>\n      <td>361.00</td>\n      <td>236+125</td>\n      <td>0.000017</td>\n      <td>236, 125</td>\n      <td>+</td>\n    </tr>\n    <tr>\n      <th>10</th>\n      <td>30.00</td>\n      <td>25+10/2</td>\n      <td>0.000021</td>\n      <td>25, 10, 2</td>\n      <td>+, /</td>\n    </tr>\n  </tbody>\n</table>\n</div>"
     },
     "execution_count": 31,
     "metadata": {},
     "output_type": "execute_result"
    }
   ],
   "source": [
    "df_statistics = pd.read_csv('calculator_statistics.csv')\n",
    "df_statistics"
   ],
   "metadata": {
    "collapsed": false
   }
  },
  {
   "cell_type": "code",
   "execution_count": 32,
   "outputs": [],
   "source": [
    "curr_series = df_statistics['operators']"
   ],
   "metadata": {
    "collapsed": false
   }
  },
  {
   "cell_type": "code",
   "execution_count": 33,
   "outputs": [
    {
     "data": {
      "text/plain": "0           +\n1     -, *, /\n2           !\n3           /\n4           %\n5       **, /\n6           -\n7           !\n8           -\n9           +\n10       +, /\nName: operators, dtype: object"
     },
     "execution_count": 33,
     "metadata": {},
     "output_type": "execute_result"
    }
   ],
   "source": [
    "curr_series"
   ],
   "metadata": {
    "collapsed": false
   }
  },
  {
   "cell_type": "markdown",
   "source": [
    "# 1. Mandatory descriptive statistic"
   ],
   "metadata": {
    "collapsed": false
   }
  },
  {
   "cell_type": "markdown",
   "source": [
    "## Elementary operations(+,-,*, /)"
   ],
   "metadata": {
    "collapsed": false
   }
  },
  {
   "cell_type": "code",
   "execution_count": 34,
   "outputs": [],
   "source": [
    "addition_counts = 0\n",
    "subtraction_count = 0\n",
    "multiplication_count = 0\n",
    "division_count = 0\n",
    "\n",
    "for cell in curr_series:\n",
    "    for char in cell:\n",
    "        if char == '+':\n",
    "            addition_counts += 1\n",
    "        if char == '-':\n",
    "            subtraction_count += 1\n",
    "        if char == '*':\n",
    "            multiplication_count += 1\n",
    "        if char == '/':\n",
    "            division_count += 1\n",
    "\n",
    "average_elementary_operations = (addition_counts + subtraction_count + multiplication_count + division_count) / 4"
   ],
   "metadata": {
    "collapsed": false
   }
  },
  {
   "cell_type": "markdown",
   "source": [
    "## 1.1 Total number of times the calculator performed addition operation"
   ],
   "metadata": {
    "collapsed": false
   }
  },
  {
   "cell_type": "code",
   "execution_count": 35,
   "outputs": [
    {
     "data": {
      "text/plain": "3"
     },
     "execution_count": 35,
     "metadata": {},
     "output_type": "execute_result"
    }
   ],
   "source": [
    "addition_counts"
   ],
   "metadata": {
    "collapsed": false
   }
  },
  {
   "cell_type": "markdown",
   "source": [
    "## 1.2 Total number of times the calculator performed subtraction operation"
   ],
   "metadata": {
    "collapsed": false
   }
  },
  {
   "cell_type": "code",
   "execution_count": 36,
   "outputs": [
    {
     "data": {
      "text/plain": "3"
     },
     "execution_count": 36,
     "metadata": {},
     "output_type": "execute_result"
    }
   ],
   "source": [
    "subtraction_count"
   ],
   "metadata": {
    "collapsed": false
   }
  },
  {
   "cell_type": "markdown",
   "source": [
    "## 1.3 Average number of times calculator performed elementary operations"
   ],
   "metadata": {
    "collapsed": false
   }
  },
  {
   "cell_type": "code",
   "execution_count": 37,
   "outputs": [
    {
     "data": {
      "text/plain": "3.25"
     },
     "execution_count": 37,
     "metadata": {},
     "output_type": "execute_result"
    }
   ],
   "source": [
    "average_elementary_operations"
   ],
   "metadata": {
    "collapsed": false
   }
  },
  {
   "cell_type": "markdown",
   "source": [
    "# 2 Other descriptive statistics"
   ],
   "metadata": {
    "collapsed": false
   }
  },
  {
   "cell_type": "markdown",
   "source": [
    "## 2.1 All factoriel operations"
   ],
   "metadata": {
    "collapsed": false
   }
  },
  {
   "cell_type": "code",
   "execution_count": 38,
   "outputs": [
    {
     "data": {
      "text/plain": "   results math_expression  execution_time operands operators\n2    120.0              5!        0.000002        5         !\n7    720.0              6!        0.000004        6         !",
      "text/html": "<div>\n<style scoped>\n    .dataframe tbody tr th:only-of-type {\n        vertical-align: middle;\n    }\n\n    .dataframe tbody tr th {\n        vertical-align: top;\n    }\n\n    .dataframe thead th {\n        text-align: right;\n    }\n</style>\n<table border=\"1\" class=\"dataframe\">\n  <thead>\n    <tr style=\"text-align: right;\">\n      <th></th>\n      <th>results</th>\n      <th>math_expression</th>\n      <th>execution_time</th>\n      <th>operands</th>\n      <th>operators</th>\n    </tr>\n  </thead>\n  <tbody>\n    <tr>\n      <th>2</th>\n      <td>120.0</td>\n      <td>5!</td>\n      <td>0.000002</td>\n      <td>5</td>\n      <td>!</td>\n    </tr>\n    <tr>\n      <th>7</th>\n      <td>720.0</td>\n      <td>6!</td>\n      <td>0.000004</td>\n      <td>6</td>\n      <td>!</td>\n    </tr>\n  </tbody>\n</table>\n</div>"
     },
     "execution_count": 38,
     "metadata": {},
     "output_type": "execute_result"
    }
   ],
   "source": [
    "df_statistics.query(\"operators == '!'\")"
   ],
   "metadata": {
    "collapsed": false
   }
  },
  {
   "cell_type": "markdown",
   "source": [
    "## 2.2 Sorting the data frame by time of executions descending"
   ],
   "metadata": {
    "collapsed": false
   }
  },
  {
   "cell_type": "code",
   "execution_count": 39,
   "outputs": [],
   "source": [
    "sorted_by_exec_time = df_statistics.sort_values('execution_time', ascending=False)"
   ],
   "metadata": {
    "collapsed": false
   }
  },
  {
   "cell_type": "code",
   "execution_count": 40,
   "outputs": [
    {
     "data": {
      "text/plain": "    results math_expression  execution_time      operands operators\n3      6.25            25/4        0.000045         25, 4         /\n8    643.00         899-256        0.000025      899, 256         -\n1      4.00   (25-5) * 5/25        0.000024  25, 5, 5, 25   -, *, /\n4     28.00          28%124        0.000024       28, 124         %\n5      5.00      (5**2) / 5        0.000023       5, 2, 5     **, /\n10    30.00         25+10/2        0.000021     25, 10, 2      +, /\n0     10.00             5+5        0.000018          5, 5         +\n9    361.00         236+125        0.000017      236, 125         +\n6   1731.00        2300-569        0.000015     2300, 569         -\n7    720.00              6!        0.000004             6         !\n2    120.00              5!        0.000002             5         !",
      "text/html": "<div>\n<style scoped>\n    .dataframe tbody tr th:only-of-type {\n        vertical-align: middle;\n    }\n\n    .dataframe tbody tr th {\n        vertical-align: top;\n    }\n\n    .dataframe thead th {\n        text-align: right;\n    }\n</style>\n<table border=\"1\" class=\"dataframe\">\n  <thead>\n    <tr style=\"text-align: right;\">\n      <th></th>\n      <th>results</th>\n      <th>math_expression</th>\n      <th>execution_time</th>\n      <th>operands</th>\n      <th>operators</th>\n    </tr>\n  </thead>\n  <tbody>\n    <tr>\n      <th>3</th>\n      <td>6.25</td>\n      <td>25/4</td>\n      <td>0.000045</td>\n      <td>25, 4</td>\n      <td>/</td>\n    </tr>\n    <tr>\n      <th>8</th>\n      <td>643.00</td>\n      <td>899-256</td>\n      <td>0.000025</td>\n      <td>899, 256</td>\n      <td>-</td>\n    </tr>\n    <tr>\n      <th>1</th>\n      <td>4.00</td>\n      <td>(25-5) * 5/25</td>\n      <td>0.000024</td>\n      <td>25, 5, 5, 25</td>\n      <td>-, *, /</td>\n    </tr>\n    <tr>\n      <th>4</th>\n      <td>28.00</td>\n      <td>28%124</td>\n      <td>0.000024</td>\n      <td>28, 124</td>\n      <td>%</td>\n    </tr>\n    <tr>\n      <th>5</th>\n      <td>5.00</td>\n      <td>(5**2) / 5</td>\n      <td>0.000023</td>\n      <td>5, 2, 5</td>\n      <td>**, /</td>\n    </tr>\n    <tr>\n      <th>10</th>\n      <td>30.00</td>\n      <td>25+10/2</td>\n      <td>0.000021</td>\n      <td>25, 10, 2</td>\n      <td>+, /</td>\n    </tr>\n    <tr>\n      <th>0</th>\n      <td>10.00</td>\n      <td>5+5</td>\n      <td>0.000018</td>\n      <td>5, 5</td>\n      <td>+</td>\n    </tr>\n    <tr>\n      <th>9</th>\n      <td>361.00</td>\n      <td>236+125</td>\n      <td>0.000017</td>\n      <td>236, 125</td>\n      <td>+</td>\n    </tr>\n    <tr>\n      <th>6</th>\n      <td>1731.00</td>\n      <td>2300-569</td>\n      <td>0.000015</td>\n      <td>2300, 569</td>\n      <td>-</td>\n    </tr>\n    <tr>\n      <th>7</th>\n      <td>720.00</td>\n      <td>6!</td>\n      <td>0.000004</td>\n      <td>6</td>\n      <td>!</td>\n    </tr>\n    <tr>\n      <th>2</th>\n      <td>120.00</td>\n      <td>5!</td>\n      <td>0.000002</td>\n      <td>5</td>\n      <td>!</td>\n    </tr>\n  </tbody>\n</table>\n</div>"
     },
     "execution_count": 40,
     "metadata": {},
     "output_type": "execute_result"
    }
   ],
   "source": [
    "sorted_by_exec_time"
   ],
   "metadata": {
    "collapsed": false
   }
  },
  {
   "cell_type": "markdown",
   "source": [
    "### 2.2.1 Rearranging the columns"
   ],
   "metadata": {
    "collapsed": false
   }
  },
  {
   "cell_type": "code",
   "execution_count": 41,
   "outputs": [
    {
     "data": {
      "text/plain": "    execution_time operators      operands  results\n3         0.000045         /         25, 4     6.25\n8         0.000025         -      899, 256   643.00\n1         0.000024   -, *, /  25, 5, 5, 25     4.00\n4         0.000024         %       28, 124    28.00\n5         0.000023     **, /       5, 2, 5     5.00\n10        0.000021      +, /     25, 10, 2    30.00\n0         0.000018         +          5, 5    10.00\n9         0.000017         +      236, 125   361.00\n6         0.000015         -     2300, 569  1731.00\n7         0.000004         !             6   720.00\n2         0.000002         !             5   120.00",
      "text/html": "<div>\n<style scoped>\n    .dataframe tbody tr th:only-of-type {\n        vertical-align: middle;\n    }\n\n    .dataframe tbody tr th {\n        vertical-align: top;\n    }\n\n    .dataframe thead th {\n        text-align: right;\n    }\n</style>\n<table border=\"1\" class=\"dataframe\">\n  <thead>\n    <tr style=\"text-align: right;\">\n      <th></th>\n      <th>execution_time</th>\n      <th>operators</th>\n      <th>operands</th>\n      <th>results</th>\n    </tr>\n  </thead>\n  <tbody>\n    <tr>\n      <th>3</th>\n      <td>0.000045</td>\n      <td>/</td>\n      <td>25, 4</td>\n      <td>6.25</td>\n    </tr>\n    <tr>\n      <th>8</th>\n      <td>0.000025</td>\n      <td>-</td>\n      <td>899, 256</td>\n      <td>643.00</td>\n    </tr>\n    <tr>\n      <th>1</th>\n      <td>0.000024</td>\n      <td>-, *, /</td>\n      <td>25, 5, 5, 25</td>\n      <td>4.00</td>\n    </tr>\n    <tr>\n      <th>4</th>\n      <td>0.000024</td>\n      <td>%</td>\n      <td>28, 124</td>\n      <td>28.00</td>\n    </tr>\n    <tr>\n      <th>5</th>\n      <td>0.000023</td>\n      <td>**, /</td>\n      <td>5, 2, 5</td>\n      <td>5.00</td>\n    </tr>\n    <tr>\n      <th>10</th>\n      <td>0.000021</td>\n      <td>+, /</td>\n      <td>25, 10, 2</td>\n      <td>30.00</td>\n    </tr>\n    <tr>\n      <th>0</th>\n      <td>0.000018</td>\n      <td>+</td>\n      <td>5, 5</td>\n      <td>10.00</td>\n    </tr>\n    <tr>\n      <th>9</th>\n      <td>0.000017</td>\n      <td>+</td>\n      <td>236, 125</td>\n      <td>361.00</td>\n    </tr>\n    <tr>\n      <th>6</th>\n      <td>0.000015</td>\n      <td>-</td>\n      <td>2300, 569</td>\n      <td>1731.00</td>\n    </tr>\n    <tr>\n      <th>7</th>\n      <td>0.000004</td>\n      <td>!</td>\n      <td>6</td>\n      <td>720.00</td>\n    </tr>\n    <tr>\n      <th>2</th>\n      <td>0.000002</td>\n      <td>!</td>\n      <td>5</td>\n      <td>120.00</td>\n    </tr>\n  </tbody>\n</table>\n</div>"
     },
     "execution_count": 41,
     "metadata": {},
     "output_type": "execute_result"
    }
   ],
   "source": [
    "sorted_by_exec_time = sorted_by_exec_time[['execution_time', 'operators', 'operands', 'results']]\n",
    "sorted_by_exec_time"
   ],
   "metadata": {
    "collapsed": false
   }
  },
  {
   "cell_type": "markdown",
   "source": [
    "### 2.2.2 Resetting the indexes"
   ],
   "metadata": {
    "collapsed": false
   }
  },
  {
   "cell_type": "code",
   "execution_count": 42,
   "outputs": [
    {
     "data": {
      "text/plain": "    execution_time operators      operands  results\n0         0.000045         /         25, 4     6.25\n1         0.000025         -      899, 256   643.00\n2         0.000024   -, *, /  25, 5, 5, 25     4.00\n3         0.000024         %       28, 124    28.00\n4         0.000023     **, /       5, 2, 5     5.00\n5         0.000021      +, /     25, 10, 2    30.00\n6         0.000018         +          5, 5    10.00\n7         0.000017         +      236, 125   361.00\n8         0.000015         -     2300, 569  1731.00\n9         0.000004         !             6   720.00\n10        0.000002         !             5   120.00",
      "text/html": "<div>\n<style scoped>\n    .dataframe tbody tr th:only-of-type {\n        vertical-align: middle;\n    }\n\n    .dataframe tbody tr th {\n        vertical-align: top;\n    }\n\n    .dataframe thead th {\n        text-align: right;\n    }\n</style>\n<table border=\"1\" class=\"dataframe\">\n  <thead>\n    <tr style=\"text-align: right;\">\n      <th></th>\n      <th>execution_time</th>\n      <th>operators</th>\n      <th>operands</th>\n      <th>results</th>\n    </tr>\n  </thead>\n  <tbody>\n    <tr>\n      <th>0</th>\n      <td>0.000045</td>\n      <td>/</td>\n      <td>25, 4</td>\n      <td>6.25</td>\n    </tr>\n    <tr>\n      <th>1</th>\n      <td>0.000025</td>\n      <td>-</td>\n      <td>899, 256</td>\n      <td>643.00</td>\n    </tr>\n    <tr>\n      <th>2</th>\n      <td>0.000024</td>\n      <td>-, *, /</td>\n      <td>25, 5, 5, 25</td>\n      <td>4.00</td>\n    </tr>\n    <tr>\n      <th>3</th>\n      <td>0.000024</td>\n      <td>%</td>\n      <td>28, 124</td>\n      <td>28.00</td>\n    </tr>\n    <tr>\n      <th>4</th>\n      <td>0.000023</td>\n      <td>**, /</td>\n      <td>5, 2, 5</td>\n      <td>5.00</td>\n    </tr>\n    <tr>\n      <th>5</th>\n      <td>0.000021</td>\n      <td>+, /</td>\n      <td>25, 10, 2</td>\n      <td>30.00</td>\n    </tr>\n    <tr>\n      <th>6</th>\n      <td>0.000018</td>\n      <td>+</td>\n      <td>5, 5</td>\n      <td>10.00</td>\n    </tr>\n    <tr>\n      <th>7</th>\n      <td>0.000017</td>\n      <td>+</td>\n      <td>236, 125</td>\n      <td>361.00</td>\n    </tr>\n    <tr>\n      <th>8</th>\n      <td>0.000015</td>\n      <td>-</td>\n      <td>2300, 569</td>\n      <td>1731.00</td>\n    </tr>\n    <tr>\n      <th>9</th>\n      <td>0.000004</td>\n      <td>!</td>\n      <td>6</td>\n      <td>720.00</td>\n    </tr>\n    <tr>\n      <th>10</th>\n      <td>0.000002</td>\n      <td>!</td>\n      <td>5</td>\n      <td>120.00</td>\n    </tr>\n  </tbody>\n</table>\n</div>"
     },
     "execution_count": 42,
     "metadata": {},
     "output_type": "execute_result"
    }
   ],
   "source": [
    "sorted_by_exec_time.reset_index(drop=True)"
   ],
   "metadata": {
    "collapsed": false
   }
  },
  {
   "cell_type": "code",
   "execution_count": 42,
   "outputs": [],
   "source": [],
   "metadata": {
    "collapsed": false
   }
  }
 ],
 "metadata": {
  "kernelspec": {
   "display_name": "Python 3",
   "language": "python",
   "name": "python3"
  },
  "language_info": {
   "codemirror_mode": {
    "name": "ipython",
    "version": 2
   },
   "file_extension": ".py",
   "mimetype": "text/x-python",
   "name": "python",
   "nbconvert_exporter": "python",
   "pygments_lexer": "ipython2",
   "version": "2.7.6"
  }
 },
 "nbformat": 4,
 "nbformat_minor": 0
}
