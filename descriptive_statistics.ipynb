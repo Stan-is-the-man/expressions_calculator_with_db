{
 "cells": [
  {
   "cell_type": "code",
   "execution_count": 270,
   "metadata": {
    "collapsed": true
   },
   "outputs": [],
   "source": [
    "import pandas as pd"
   ]
  },
  {
   "cell_type": "code",
   "execution_count": 271,
   "outputs": [
    {
     "data": {
      "text/plain": "         operands                                           results   \n0          25, 75                                               100  \\\n1       1258, 258                                              1000   \n2           8, 88                                               704   \n3          122, 2                                                61   \n4               5                                               120   \n5         34, 100                                                34   \n6            4, 4                                               256   \n7       5, 5, 100                                              1000   \n8       5, 5, 100                                               505   \n9              22                            1124000727777607700000   \n10             40  815915283247897700000000000000000000000000000000   \n11  45, 99, 2, 22                                                50   \n\n    execution_time operators  \n0         0.000027         +  \n1         0.000016         -  \n2         0.000014         *  \n3         0.000016         /  \n4         0.000002         !  \n5         0.000016         %  \n6         0.000016        **  \n7         0.000017      +, *  \n8         0.000013      +, *  \n9         0.000003         !  \n10        0.000004         !  \n11        0.000184   +, /, -  ",
      "text/html": "<div>\n<style scoped>\n    .dataframe tbody tr th:only-of-type {\n        vertical-align: middle;\n    }\n\n    .dataframe tbody tr th {\n        vertical-align: top;\n    }\n\n    .dataframe thead th {\n        text-align: right;\n    }\n</style>\n<table border=\"1\" class=\"dataframe\">\n  <thead>\n    <tr style=\"text-align: right;\">\n      <th></th>\n      <th>operands</th>\n      <th>results</th>\n      <th>execution_time</th>\n      <th>operators</th>\n    </tr>\n  </thead>\n  <tbody>\n    <tr>\n      <th>0</th>\n      <td>25, 75</td>\n      <td>100</td>\n      <td>0.000027</td>\n      <td>+</td>\n    </tr>\n    <tr>\n      <th>1</th>\n      <td>1258, 258</td>\n      <td>1000</td>\n      <td>0.000016</td>\n      <td>-</td>\n    </tr>\n    <tr>\n      <th>2</th>\n      <td>8, 88</td>\n      <td>704</td>\n      <td>0.000014</td>\n      <td>*</td>\n    </tr>\n    <tr>\n      <th>3</th>\n      <td>122, 2</td>\n      <td>61</td>\n      <td>0.000016</td>\n      <td>/</td>\n    </tr>\n    <tr>\n      <th>4</th>\n      <td>5</td>\n      <td>120</td>\n      <td>0.000002</td>\n      <td>!</td>\n    </tr>\n    <tr>\n      <th>5</th>\n      <td>34, 100</td>\n      <td>34</td>\n      <td>0.000016</td>\n      <td>%</td>\n    </tr>\n    <tr>\n      <th>6</th>\n      <td>4, 4</td>\n      <td>256</td>\n      <td>0.000016</td>\n      <td>**</td>\n    </tr>\n    <tr>\n      <th>7</th>\n      <td>5, 5, 100</td>\n      <td>1000</td>\n      <td>0.000017</td>\n      <td>+, *</td>\n    </tr>\n    <tr>\n      <th>8</th>\n      <td>5, 5, 100</td>\n      <td>505</td>\n      <td>0.000013</td>\n      <td>+, *</td>\n    </tr>\n    <tr>\n      <th>9</th>\n      <td>22</td>\n      <td>1124000727777607700000</td>\n      <td>0.000003</td>\n      <td>!</td>\n    </tr>\n    <tr>\n      <th>10</th>\n      <td>40</td>\n      <td>815915283247897700000000000000000000000000000000</td>\n      <td>0.000004</td>\n      <td>!</td>\n    </tr>\n    <tr>\n      <th>11</th>\n      <td>45, 99, 2, 22</td>\n      <td>50</td>\n      <td>0.000184</td>\n      <td>+, /, -</td>\n    </tr>\n  </tbody>\n</table>\n</div>"
     },
     "execution_count": 271,
     "metadata": {},
     "output_type": "execute_result"
    }
   ],
   "source": [
    "df_statistics = pd.read_csv('calculator_statistics.csv')\n",
    "df_statistics"
   ],
   "metadata": {
    "collapsed": false
   }
  },
  {
   "cell_type": "code",
   "execution_count": 272,
   "outputs": [],
   "source": [
    "curr_series = df_statistics.loc[:, 'operators']"
   ],
   "metadata": {
    "collapsed": false
   }
  },
  {
   "cell_type": "code",
   "execution_count": 273,
   "outputs": [
    {
     "data": {
      "text/plain": "0           +\n1           -\n2           *\n3           /\n4           !\n5           %\n6          **\n7        +, *\n8        +, *\n9           !\n10          !\n11    +, /, -\nName: operators, dtype: object"
     },
     "execution_count": 273,
     "metadata": {},
     "output_type": "execute_result"
    }
   ],
   "source": [
    "curr_series"
   ],
   "metadata": {
    "collapsed": false
   }
  },
  {
   "cell_type": "markdown",
   "source": [
    "# 1. Mandatory descriptive statistic"
   ],
   "metadata": {
    "collapsed": false
   }
  },
  {
   "cell_type": "code",
   "execution_count": 274,
   "outputs": [],
   "source": [
    "addition_counts = 0\n",
    "subtraction_count = 0\n",
    "multiplication_count = 0\n",
    "division_count = 0\n",
    "\n",
    "for cell in curr_series:\n",
    "    for char in cell:\n",
    "        if char == '+':\n",
    "            addition_counts += 1\n",
    "        if char == '-':\n",
    "            subtraction_count += 1\n",
    "        if char == '*':\n",
    "            multiplication_count += 1\n",
    "        if char == '/':\n",
    "            division_count += 1\n",
    "\n",
    "average_elementary_operations = (addition_counts + subtraction_count + multiplication_count + division_count) / 4"
   ],
   "metadata": {
    "collapsed": false
   }
  },
  {
   "cell_type": "markdown",
   "source": [
    "## 1.1 Total number of times the calculator performed addition operation"
   ],
   "metadata": {
    "collapsed": false
   }
  },
  {
   "cell_type": "code",
   "execution_count": 275,
   "outputs": [
    {
     "data": {
      "text/plain": "4"
     },
     "execution_count": 275,
     "metadata": {},
     "output_type": "execute_result"
    }
   ],
   "source": [
    "addition_counts"
   ],
   "metadata": {
    "collapsed": false
   }
  },
  {
   "cell_type": "markdown",
   "source": [
    "## 1.2 Total number of times the calculator performed subtraction operation"
   ],
   "metadata": {
    "collapsed": false
   }
  },
  {
   "cell_type": "code",
   "execution_count": 276,
   "outputs": [
    {
     "data": {
      "text/plain": "2"
     },
     "execution_count": 276,
     "metadata": {},
     "output_type": "execute_result"
    }
   ],
   "source": [
    "subtraction_count"
   ],
   "metadata": {
    "collapsed": false
   }
  },
  {
   "cell_type": "markdown",
   "source": [
    "## 1.3 Average number of times calculator performed elementary operations"
   ],
   "metadata": {
    "collapsed": false
   }
  },
  {
   "cell_type": "code",
   "execution_count": 277,
   "outputs": [
    {
     "data": {
      "text/plain": "3.25"
     },
     "execution_count": 277,
     "metadata": {},
     "output_type": "execute_result"
    }
   ],
   "source": [
    "average_elementary_operations"
   ],
   "metadata": {
    "collapsed": false
   }
  },
  {
   "cell_type": "markdown",
   "source": [
    "# 2 Other descriptive statistics"
   ],
   "metadata": {
    "collapsed": false
   }
  },
  {
   "cell_type": "markdown",
   "source": [
    "## 2.1 All factoriel operations"
   ],
   "metadata": {
    "collapsed": false
   }
  },
  {
   "cell_type": "code",
   "execution_count": 278,
   "outputs": [
    {
     "data": {
      "text/plain": "   operands                                           results  execution_time   \n4         5                                               120        0.000002  \\\n9        22                            1124000727777607700000        0.000003   \n10       40  815915283247897700000000000000000000000000000000        0.000004   \n\n   operators  \n4          !  \n9          !  \n10         !  ",
      "text/html": "<div>\n<style scoped>\n    .dataframe tbody tr th:only-of-type {\n        vertical-align: middle;\n    }\n\n    .dataframe tbody tr th {\n        vertical-align: top;\n    }\n\n    .dataframe thead th {\n        text-align: right;\n    }\n</style>\n<table border=\"1\" class=\"dataframe\">\n  <thead>\n    <tr style=\"text-align: right;\">\n      <th></th>\n      <th>operands</th>\n      <th>results</th>\n      <th>execution_time</th>\n      <th>operators</th>\n    </tr>\n  </thead>\n  <tbody>\n    <tr>\n      <th>4</th>\n      <td>5</td>\n      <td>120</td>\n      <td>0.000002</td>\n      <td>!</td>\n    </tr>\n    <tr>\n      <th>9</th>\n      <td>22</td>\n      <td>1124000727777607700000</td>\n      <td>0.000003</td>\n      <td>!</td>\n    </tr>\n    <tr>\n      <th>10</th>\n      <td>40</td>\n      <td>815915283247897700000000000000000000000000000000</td>\n      <td>0.000004</td>\n      <td>!</td>\n    </tr>\n  </tbody>\n</table>\n</div>"
     },
     "execution_count": 278,
     "metadata": {},
     "output_type": "execute_result"
    }
   ],
   "source": [
    "df_statistics.query(\"operators == '!'\")"
   ],
   "metadata": {
    "collapsed": false
   }
  },
  {
   "cell_type": "markdown",
   "source": [
    "## 2.2 Sorting the data frame by time of executions descending"
   ],
   "metadata": {
    "collapsed": false
   }
  },
  {
   "cell_type": "code",
   "execution_count": 279,
   "outputs": [],
   "source": [
    "sorted_by_exec_time = df_statistics.sort_values('execution_time', ascending=False)"
   ],
   "metadata": {
    "collapsed": false
   }
  },
  {
   "cell_type": "code",
   "execution_count": 280,
   "outputs": [
    {
     "data": {
      "text/plain": "         operands                                           results   \n11  45, 99, 2, 22                                                50  \\\n0          25, 75                                               100   \n7       5, 5, 100                                              1000   \n5         34, 100                                                34   \n3          122, 2                                                61   \n1       1258, 258                                              1000   \n6            4, 4                                               256   \n2           8, 88                                               704   \n8       5, 5, 100                                               505   \n10             40  815915283247897700000000000000000000000000000000   \n9              22                            1124000727777607700000   \n4               5                                               120   \n\n    execution_time operators  \n11        0.000184   +, /, -  \n0         0.000027         +  \n7         0.000017      +, *  \n5         0.000016         %  \n3         0.000016         /  \n1         0.000016         -  \n6         0.000016        **  \n2         0.000014         *  \n8         0.000013      +, *  \n10        0.000004         !  \n9         0.000003         !  \n4         0.000002         !  ",
      "text/html": "<div>\n<style scoped>\n    .dataframe tbody tr th:only-of-type {\n        vertical-align: middle;\n    }\n\n    .dataframe tbody tr th {\n        vertical-align: top;\n    }\n\n    .dataframe thead th {\n        text-align: right;\n    }\n</style>\n<table border=\"1\" class=\"dataframe\">\n  <thead>\n    <tr style=\"text-align: right;\">\n      <th></th>\n      <th>operands</th>\n      <th>results</th>\n      <th>execution_time</th>\n      <th>operators</th>\n    </tr>\n  </thead>\n  <tbody>\n    <tr>\n      <th>11</th>\n      <td>45, 99, 2, 22</td>\n      <td>50</td>\n      <td>0.000184</td>\n      <td>+, /, -</td>\n    </tr>\n    <tr>\n      <th>0</th>\n      <td>25, 75</td>\n      <td>100</td>\n      <td>0.000027</td>\n      <td>+</td>\n    </tr>\n    <tr>\n      <th>7</th>\n      <td>5, 5, 100</td>\n      <td>1000</td>\n      <td>0.000017</td>\n      <td>+, *</td>\n    </tr>\n    <tr>\n      <th>5</th>\n      <td>34, 100</td>\n      <td>34</td>\n      <td>0.000016</td>\n      <td>%</td>\n    </tr>\n    <tr>\n      <th>3</th>\n      <td>122, 2</td>\n      <td>61</td>\n      <td>0.000016</td>\n      <td>/</td>\n    </tr>\n    <tr>\n      <th>1</th>\n      <td>1258, 258</td>\n      <td>1000</td>\n      <td>0.000016</td>\n      <td>-</td>\n    </tr>\n    <tr>\n      <th>6</th>\n      <td>4, 4</td>\n      <td>256</td>\n      <td>0.000016</td>\n      <td>**</td>\n    </tr>\n    <tr>\n      <th>2</th>\n      <td>8, 88</td>\n      <td>704</td>\n      <td>0.000014</td>\n      <td>*</td>\n    </tr>\n    <tr>\n      <th>8</th>\n      <td>5, 5, 100</td>\n      <td>505</td>\n      <td>0.000013</td>\n      <td>+, *</td>\n    </tr>\n    <tr>\n      <th>10</th>\n      <td>40</td>\n      <td>815915283247897700000000000000000000000000000000</td>\n      <td>0.000004</td>\n      <td>!</td>\n    </tr>\n    <tr>\n      <th>9</th>\n      <td>22</td>\n      <td>1124000727777607700000</td>\n      <td>0.000003</td>\n      <td>!</td>\n    </tr>\n    <tr>\n      <th>4</th>\n      <td>5</td>\n      <td>120</td>\n      <td>0.000002</td>\n      <td>!</td>\n    </tr>\n  </tbody>\n</table>\n</div>"
     },
     "execution_count": 280,
     "metadata": {},
     "output_type": "execute_result"
    }
   ],
   "source": [
    "sorted_by_exec_time"
   ],
   "metadata": {
    "collapsed": false
   }
  },
  {
   "cell_type": "markdown",
   "source": [
    "### 2.2.1 Rearranging the columns"
   ],
   "metadata": {
    "collapsed": false
   }
  },
  {
   "cell_type": "code",
   "execution_count": 281,
   "outputs": [
    {
     "data": {
      "text/plain": "    execution_time operators       operands   \n11        0.000184   +, /, -  45, 99, 2, 22  \\\n0         0.000027         +         25, 75   \n7         0.000017      +, *      5, 5, 100   \n5         0.000016         %        34, 100   \n3         0.000016         /         122, 2   \n1         0.000016         -      1258, 258   \n6         0.000016        **           4, 4   \n2         0.000014         *          8, 88   \n8         0.000013      +, *      5, 5, 100   \n10        0.000004         !             40   \n9         0.000003         !             22   \n4         0.000002         !              5   \n\n                                             results  \n11                                                50  \n0                                                100  \n7                                               1000  \n5                                                 34  \n3                                                 61  \n1                                               1000  \n6                                                256  \n2                                                704  \n8                                                505  \n10  815915283247897700000000000000000000000000000000  \n9                             1124000727777607700000  \n4                                                120  ",
      "text/html": "<div>\n<style scoped>\n    .dataframe tbody tr th:only-of-type {\n        vertical-align: middle;\n    }\n\n    .dataframe tbody tr th {\n        vertical-align: top;\n    }\n\n    .dataframe thead th {\n        text-align: right;\n    }\n</style>\n<table border=\"1\" class=\"dataframe\">\n  <thead>\n    <tr style=\"text-align: right;\">\n      <th></th>\n      <th>execution_time</th>\n      <th>operators</th>\n      <th>operands</th>\n      <th>results</th>\n    </tr>\n  </thead>\n  <tbody>\n    <tr>\n      <th>11</th>\n      <td>0.000184</td>\n      <td>+, /, -</td>\n      <td>45, 99, 2, 22</td>\n      <td>50</td>\n    </tr>\n    <tr>\n      <th>0</th>\n      <td>0.000027</td>\n      <td>+</td>\n      <td>25, 75</td>\n      <td>100</td>\n    </tr>\n    <tr>\n      <th>7</th>\n      <td>0.000017</td>\n      <td>+, *</td>\n      <td>5, 5, 100</td>\n      <td>1000</td>\n    </tr>\n    <tr>\n      <th>5</th>\n      <td>0.000016</td>\n      <td>%</td>\n      <td>34, 100</td>\n      <td>34</td>\n    </tr>\n    <tr>\n      <th>3</th>\n      <td>0.000016</td>\n      <td>/</td>\n      <td>122, 2</td>\n      <td>61</td>\n    </tr>\n    <tr>\n      <th>1</th>\n      <td>0.000016</td>\n      <td>-</td>\n      <td>1258, 258</td>\n      <td>1000</td>\n    </tr>\n    <tr>\n      <th>6</th>\n      <td>0.000016</td>\n      <td>**</td>\n      <td>4, 4</td>\n      <td>256</td>\n    </tr>\n    <tr>\n      <th>2</th>\n      <td>0.000014</td>\n      <td>*</td>\n      <td>8, 88</td>\n      <td>704</td>\n    </tr>\n    <tr>\n      <th>8</th>\n      <td>0.000013</td>\n      <td>+, *</td>\n      <td>5, 5, 100</td>\n      <td>505</td>\n    </tr>\n    <tr>\n      <th>10</th>\n      <td>0.000004</td>\n      <td>!</td>\n      <td>40</td>\n      <td>815915283247897700000000000000000000000000000000</td>\n    </tr>\n    <tr>\n      <th>9</th>\n      <td>0.000003</td>\n      <td>!</td>\n      <td>22</td>\n      <td>1124000727777607700000</td>\n    </tr>\n    <tr>\n      <th>4</th>\n      <td>0.000002</td>\n      <td>!</td>\n      <td>5</td>\n      <td>120</td>\n    </tr>\n  </tbody>\n</table>\n</div>"
     },
     "execution_count": 281,
     "metadata": {},
     "output_type": "execute_result"
    }
   ],
   "source": [
    "sorted_by_exec_time = sorted_by_exec_time[['execution_time', 'operators', 'operands', 'results']]\n",
    "sorted_by_exec_time"
   ],
   "metadata": {
    "collapsed": false
   }
  },
  {
   "cell_type": "markdown",
   "source": [
    "### 2.2.2 Resetting the indexes"
   ],
   "metadata": {
    "collapsed": false
   }
  },
  {
   "cell_type": "code",
   "execution_count": 282,
   "outputs": [
    {
     "data": {
      "text/plain": "         operands                                           results   \n0          25, 75                                               100  \\\n1       1258, 258                                              1000   \n2           8, 88                                               704   \n3          122, 2                                                61   \n4               5                                               120   \n5         34, 100                                                34   \n6            4, 4                                               256   \n7       5, 5, 100                                              1000   \n8       5, 5, 100                                               505   \n9              22                            1124000727777607700000   \n10             40  815915283247897700000000000000000000000000000000   \n11  45, 99, 2, 22                                                50   \n\n    execution_time operators  \n0         0.000027         +  \n1         0.000016         -  \n2         0.000014         *  \n3         0.000016         /  \n4         0.000002         !  \n5         0.000016         %  \n6         0.000016        **  \n7         0.000017      +, *  \n8         0.000013      +, *  \n9         0.000003         !  \n10        0.000004         !  \n11        0.000184   +, /, -  ",
      "text/html": "<div>\n<style scoped>\n    .dataframe tbody tr th:only-of-type {\n        vertical-align: middle;\n    }\n\n    .dataframe tbody tr th {\n        vertical-align: top;\n    }\n\n    .dataframe thead th {\n        text-align: right;\n    }\n</style>\n<table border=\"1\" class=\"dataframe\">\n  <thead>\n    <tr style=\"text-align: right;\">\n      <th></th>\n      <th>operands</th>\n      <th>results</th>\n      <th>execution_time</th>\n      <th>operators</th>\n    </tr>\n  </thead>\n  <tbody>\n    <tr>\n      <th>0</th>\n      <td>25, 75</td>\n      <td>100</td>\n      <td>0.000027</td>\n      <td>+</td>\n    </tr>\n    <tr>\n      <th>1</th>\n      <td>1258, 258</td>\n      <td>1000</td>\n      <td>0.000016</td>\n      <td>-</td>\n    </tr>\n    <tr>\n      <th>2</th>\n      <td>8, 88</td>\n      <td>704</td>\n      <td>0.000014</td>\n      <td>*</td>\n    </tr>\n    <tr>\n      <th>3</th>\n      <td>122, 2</td>\n      <td>61</td>\n      <td>0.000016</td>\n      <td>/</td>\n    </tr>\n    <tr>\n      <th>4</th>\n      <td>5</td>\n      <td>120</td>\n      <td>0.000002</td>\n      <td>!</td>\n    </tr>\n    <tr>\n      <th>5</th>\n      <td>34, 100</td>\n      <td>34</td>\n      <td>0.000016</td>\n      <td>%</td>\n    </tr>\n    <tr>\n      <th>6</th>\n      <td>4, 4</td>\n      <td>256</td>\n      <td>0.000016</td>\n      <td>**</td>\n    </tr>\n    <tr>\n      <th>7</th>\n      <td>5, 5, 100</td>\n      <td>1000</td>\n      <td>0.000017</td>\n      <td>+, *</td>\n    </tr>\n    <tr>\n      <th>8</th>\n      <td>5, 5, 100</td>\n      <td>505</td>\n      <td>0.000013</td>\n      <td>+, *</td>\n    </tr>\n    <tr>\n      <th>9</th>\n      <td>22</td>\n      <td>1124000727777607700000</td>\n      <td>0.000003</td>\n      <td>!</td>\n    </tr>\n    <tr>\n      <th>10</th>\n      <td>40</td>\n      <td>815915283247897700000000000000000000000000000000</td>\n      <td>0.000004</td>\n      <td>!</td>\n    </tr>\n    <tr>\n      <th>11</th>\n      <td>45, 99, 2, 22</td>\n      <td>50</td>\n      <td>0.000184</td>\n      <td>+, /, -</td>\n    </tr>\n  </tbody>\n</table>\n</div>"
     },
     "execution_count": 282,
     "metadata": {},
     "output_type": "execute_result"
    }
   ],
   "source": [
    "df_statistics.reset_index(drop=True)"
   ],
   "metadata": {
    "collapsed": false
   }
  },
  {
   "cell_type": "code",
   "execution_count": 282,
   "outputs": [],
   "source": [],
   "metadata": {
    "collapsed": false
   }
  }
 ],
 "metadata": {
  "kernelspec": {
   "display_name": "Python 3",
   "language": "python",
   "name": "python3"
  },
  "language_info": {
   "codemirror_mode": {
    "name": "ipython",
    "version": 2
   },
   "file_extension": ".py",
   "mimetype": "text/x-python",
   "name": "python",
   "nbconvert_exporter": "python",
   "pygments_lexer": "ipython2",
   "version": "2.7.6"
  }
 },
 "nbformat": 4,
 "nbformat_minor": 0
}
