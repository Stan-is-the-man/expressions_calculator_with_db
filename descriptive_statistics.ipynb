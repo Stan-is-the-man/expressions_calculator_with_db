{
 "cells": [
  {
   "cell_type": "code",
   "execution_count": 201,
   "metadata": {
    "collapsed": true
   },
   "outputs": [],
   "source": [
    "import pandas as pd"
   ]
  },
  {
   "cell_type": "code",
   "execution_count": 202,
   "outputs": [
    {
     "data": {
      "text/plain": "            operands                     results  execution_time   \n0            5, 5, 2                           8        0.000016  \\\n1            2, 2, 1                           4        0.000015   \n2         5, 100, 25                          30        0.000015   \n3            2, 3, 1                           9        0.000015   \n4   2, 2, 6, 8, 2, 1                          26        0.000043   \n5               5, 2                           7        0.000014   \n6               5, 2                           7        0.000012   \n7                  5                         120        0.000001   \n8                 25  15511210043330986000000000        0.000003   \n9               5, 2                           3        0.000021   \n10              5, 2                           7        0.000013   \n11                 5                         120        0.000002   \n\n         operators  \n0             +, -  \n1             *, /  \n2             %, +  \n3            **, +  \n4   +, +, --, *, /  \n5               --  \n6                +  \n7                !  \n8                !  \n9              ---  \n10              --  \n11               !  ",
      "text/html": "<div>\n<style scoped>\n    .dataframe tbody tr th:only-of-type {\n        vertical-align: middle;\n    }\n\n    .dataframe tbody tr th {\n        vertical-align: top;\n    }\n\n    .dataframe thead th {\n        text-align: right;\n    }\n</style>\n<table border=\"1\" class=\"dataframe\">\n  <thead>\n    <tr style=\"text-align: right;\">\n      <th></th>\n      <th>operands</th>\n      <th>results</th>\n      <th>execution_time</th>\n      <th>operators</th>\n    </tr>\n  </thead>\n  <tbody>\n    <tr>\n      <th>0</th>\n      <td>5, 5, 2</td>\n      <td>8</td>\n      <td>0.000016</td>\n      <td>+, -</td>\n    </tr>\n    <tr>\n      <th>1</th>\n      <td>2, 2, 1</td>\n      <td>4</td>\n      <td>0.000015</td>\n      <td>*, /</td>\n    </tr>\n    <tr>\n      <th>2</th>\n      <td>5, 100, 25</td>\n      <td>30</td>\n      <td>0.000015</td>\n      <td>%, +</td>\n    </tr>\n    <tr>\n      <th>3</th>\n      <td>2, 3, 1</td>\n      <td>9</td>\n      <td>0.000015</td>\n      <td>**, +</td>\n    </tr>\n    <tr>\n      <th>4</th>\n      <td>2, 2, 6, 8, 2, 1</td>\n      <td>26</td>\n      <td>0.000043</td>\n      <td>+, +, --, *, /</td>\n    </tr>\n    <tr>\n      <th>5</th>\n      <td>5, 2</td>\n      <td>7</td>\n      <td>0.000014</td>\n      <td>--</td>\n    </tr>\n    <tr>\n      <th>6</th>\n      <td>5, 2</td>\n      <td>7</td>\n      <td>0.000012</td>\n      <td>+</td>\n    </tr>\n    <tr>\n      <th>7</th>\n      <td>5</td>\n      <td>120</td>\n      <td>0.000001</td>\n      <td>!</td>\n    </tr>\n    <tr>\n      <th>8</th>\n      <td>25</td>\n      <td>15511210043330986000000000</td>\n      <td>0.000003</td>\n      <td>!</td>\n    </tr>\n    <tr>\n      <th>9</th>\n      <td>5, 2</td>\n      <td>3</td>\n      <td>0.000021</td>\n      <td>---</td>\n    </tr>\n    <tr>\n      <th>10</th>\n      <td>5, 2</td>\n      <td>7</td>\n      <td>0.000013</td>\n      <td>--</td>\n    </tr>\n    <tr>\n      <th>11</th>\n      <td>5</td>\n      <td>120</td>\n      <td>0.000002</td>\n      <td>!</td>\n    </tr>\n  </tbody>\n</table>\n</div>"
     },
     "execution_count": 202,
     "metadata": {},
     "output_type": "execute_result"
    }
   ],
   "source": [
    "df_statistics = pd.read_csv('calculator_statistics.csv')\n",
    "df_statistics"
   ],
   "metadata": {
    "collapsed": false
   }
  },
  {
   "cell_type": "code",
   "execution_count": 203,
   "outputs": [],
   "source": [
    "curr_series = df_statistics.loc[:, 'operators']"
   ],
   "metadata": {
    "collapsed": false
   }
  },
  {
   "cell_type": "code",
   "execution_count": 204,
   "outputs": [
    {
     "data": {
      "text/plain": "0               +, -\n1               *, /\n2               %, +\n3              **, +\n4     +, +, --, *, /\n5                 --\n6                  +\n7                  !\n8                  !\n9                ---\n10                --\n11                 !\nName: operators, dtype: object"
     },
     "execution_count": 204,
     "metadata": {},
     "output_type": "execute_result"
    }
   ],
   "source": [
    "curr_series"
   ],
   "metadata": {
    "collapsed": false
   }
  },
  {
   "cell_type": "markdown",
   "source": [
    "# 1. Mandatory descriptive statistic"
   ],
   "metadata": {
    "collapsed": false
   }
  },
  {
   "cell_type": "code",
   "execution_count": 205,
   "outputs": [],
   "source": [
    "addition_counts = 0\n",
    "subtraction_count = 0\n",
    "multiplication_count = 0\n",
    "division_count = 0\n",
    "\n",
    "\n",
    "for cell in curr_series:\n",
    "    for char in cell:\n",
    "        if char == '+':\n",
    "            addition_counts += 1\n",
    "        if char == '-':\n",
    "            subtraction_count += 1\n",
    "        if char == '*':\n",
    "            multiplication_count += 1\n",
    "        if char == '/':\n",
    "            division_count += 1\n",
    "\n",
    "average_elementary_operations = (addition_counts + subtraction_count + multiplication_count + division_count) / 4"
   ],
   "metadata": {
    "collapsed": false
   }
  },
  {
   "cell_type": "markdown",
   "source": [
    "## 1.1 Total number of times the calculator performed addition operation"
   ],
   "metadata": {
    "collapsed": false
   }
  },
  {
   "cell_type": "code",
   "execution_count": 206,
   "outputs": [
    {
     "data": {
      "text/plain": "6"
     },
     "execution_count": 206,
     "metadata": {},
     "output_type": "execute_result"
    }
   ],
   "source": [
    "addition_counts"
   ],
   "metadata": {
    "collapsed": false
   }
  },
  {
   "cell_type": "markdown",
   "source": [
    "## 1.2 Total number of times the calculator performed subtraction operation"
   ],
   "metadata": {
    "collapsed": false
   }
  },
  {
   "cell_type": "code",
   "execution_count": 207,
   "outputs": [
    {
     "data": {
      "text/plain": "10"
     },
     "execution_count": 207,
     "metadata": {},
     "output_type": "execute_result"
    }
   ],
   "source": [
    "subtraction_count"
   ],
   "metadata": {
    "collapsed": false
   }
  },
  {
   "cell_type": "markdown",
   "source": [
    "## 1.3 Average number of times calculator performed elementary operations"
   ],
   "metadata": {
    "collapsed": false
   }
  },
  {
   "cell_type": "code",
   "execution_count": 208,
   "outputs": [
    {
     "data": {
      "text/plain": "5.5"
     },
     "execution_count": 208,
     "metadata": {},
     "output_type": "execute_result"
    }
   ],
   "source": [
    "average_elementary_operations"
   ],
   "metadata": {
    "collapsed": false
   }
  },
  {
   "cell_type": "markdown",
   "source": [
    "# 2 Other descriptive statistics"
   ],
   "metadata": {
    "collapsed": false
   }
  },
  {
   "cell_type": "code",
   "execution_count": 208,
   "outputs": [],
   "source": [],
   "metadata": {
    "collapsed": false
   }
  }
 ],
 "metadata": {
  "kernelspec": {
   "display_name": "Python 3",
   "language": "python",
   "name": "python3"
  },
  "language_info": {
   "codemirror_mode": {
    "name": "ipython",
    "version": 2
   },
   "file_extension": ".py",
   "mimetype": "text/x-python",
   "name": "python",
   "nbconvert_exporter": "python",
   "pygments_lexer": "ipython2",
   "version": "2.7.6"
  }
 },
 "nbformat": 4,
 "nbformat_minor": 0
}
