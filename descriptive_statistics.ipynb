{
 "cells": [
  {
   "cell_type": "code",
   "execution_count": 64,
   "metadata": {
    "collapsed": true
   },
   "outputs": [],
   "source": [
    "import pandas as pd"
   ]
  },
  {
   "cell_type": "code",
   "execution_count": 65,
   "outputs": [
    {
     "data": {
      "text/plain": "  operands  results  execution_time\n0  5, 5, 2        8        0.000015\n1     8, 4        2        0.000030\n2  2, 2, 4        0        0.000020\n3        5      120        0.000002\n4   5, 100        5        0.000013\n5  5, 2, 5       20        0.000014",
      "text/html": "<div>\n<style scoped>\n    .dataframe tbody tr th:only-of-type {\n        vertical-align: middle;\n    }\n\n    .dataframe tbody tr th {\n        vertical-align: top;\n    }\n\n    .dataframe thead th {\n        text-align: right;\n    }\n</style>\n<table border=\"1\" class=\"dataframe\">\n  <thead>\n    <tr style=\"text-align: right;\">\n      <th></th>\n      <th>operands</th>\n      <th>results</th>\n      <th>execution_time</th>\n    </tr>\n  </thead>\n  <tbody>\n    <tr>\n      <th>0</th>\n      <td>5, 5, 2</td>\n      <td>8</td>\n      <td>0.000015</td>\n    </tr>\n    <tr>\n      <th>1</th>\n      <td>8, 4</td>\n      <td>2</td>\n      <td>0.000030</td>\n    </tr>\n    <tr>\n      <th>2</th>\n      <td>2, 2, 4</td>\n      <td>0</td>\n      <td>0.000020</td>\n    </tr>\n    <tr>\n      <th>3</th>\n      <td>5</td>\n      <td>120</td>\n      <td>0.000002</td>\n    </tr>\n    <tr>\n      <th>4</th>\n      <td>5, 100</td>\n      <td>5</td>\n      <td>0.000013</td>\n    </tr>\n    <tr>\n      <th>5</th>\n      <td>5, 2, 5</td>\n      <td>20</td>\n      <td>0.000014</td>\n    </tr>\n  </tbody>\n</table>\n</div>"
     },
     "execution_count": 65,
     "metadata": {},
     "output_type": "execute_result"
    }
   ],
   "source": [
    "df_statistics = pd.read_csv('calculator_statistics.csv')\n",
    "df_statistics"
   ],
   "metadata": {
    "collapsed": false
   }
  },
  {
   "cell_type": "code",
   "execution_count": 66,
   "outputs": [
    {
     "data": {
      "text/plain": "'5, 5, 2'"
     },
     "execution_count": 66,
     "metadata": {},
     "output_type": "execute_result"
    }
   ],
   "source": [
    "curr_data = df_statistics.loc[0][0]\n",
    "curr_data"
   ],
   "metadata": {
    "collapsed": false
   }
  },
  {
   "cell_type": "code",
   "execution_count": 67,
   "outputs": [
    {
     "name": "stdout",
     "output_type": "stream",
     "text": [
      "2 2\n"
     ]
    }
   ],
   "source": [
    "comas = 0\n",
    "digit = 0\n",
    "for char in curr_data:\n",
    "    if char == ',':\n",
    "        comas += 1\n",
    "    if char == '5':\n",
    "        digit += 1\n",
    "print(comas,digit)"
   ],
   "metadata": {
    "collapsed": false
   }
  },
  {
   "cell_type": "code",
   "execution_count": 68,
   "outputs": [],
   "source": [
    "curr_series = df_statistics.loc[:,'operands']"
   ],
   "metadata": {
    "collapsed": false
   }
  },
  {
   "cell_type": "code",
   "execution_count": 69,
   "outputs": [
    {
     "data": {
      "text/plain": "0    5, 5, 2\n1       8, 4\n2    2, 2, 4\n3          5\n4     5, 100\n5    5, 2, 5\nName: operands, dtype: object"
     },
     "execution_count": 69,
     "metadata": {},
     "output_type": "execute_result"
    }
   ],
   "source": [
    "curr_series"
   ],
   "metadata": {
    "collapsed": false
   }
  },
  {
   "cell_type": "code",
   "execution_count": 70,
   "outputs": [
    {
     "name": "stdout",
     "output_type": "stream",
     "text": [
      "8\n"
     ]
    }
   ],
   "source": [
    "comas = 0\n",
    "for cell in curr_series:\n",
    "    for char in cell:\n",
    "        if char == ',':\n",
    "            comas += 1\n",
    "\n",
    "print(comas)"
   ],
   "metadata": {
    "collapsed": false
   }
  },
  {
   "cell_type": "code",
   "execution_count": 73,
   "outputs": [
    {
     "name": "stdout",
     "output_type": "stream",
     "text": [
      "8\n"
     ]
    }
   ],
   "source": [
    "the_sym = ','\n",
    "count = df_statistics['operands'].str.count(the_sym).sum()\n",
    "print(count)"
   ],
   "metadata": {
    "collapsed": false
   }
  },
  {
   "cell_type": "code",
   "execution_count": null,
   "outputs": [],
   "source": [],
   "metadata": {
    "collapsed": false
   }
  }
 ],
 "metadata": {
  "kernelspec": {
   "display_name": "Python 3",
   "language": "python",
   "name": "python3"
  },
  "language_info": {
   "codemirror_mode": {
    "name": "ipython",
    "version": 2
   },
   "file_extension": ".py",
   "mimetype": "text/x-python",
   "name": "python",
   "nbconvert_exporter": "python",
   "pygments_lexer": "ipython2",
   "version": "2.7.6"
  }
 },
 "nbformat": 4,
 "nbformat_minor": 0
}
